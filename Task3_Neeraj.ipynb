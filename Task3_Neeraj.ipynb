{
  "nbformat": 4,
  "nbformat_minor": 0,
  "metadata": {
    "colab": {
      "provenance": []
    },
    "kernelspec": {
      "name": "python3",
      "display_name": "Python 3"
    },
    "language_info": {
      "name": "python"
    }
  },
  "cells": [
    {
      "cell_type": "code",
      "execution_count": null,
      "metadata": {
        "colab": {
          "base_uri": "https://localhost:8080/"
        },
        "id": "k4zlk4lY8uPS",
        "outputId": "358fc66c-1af7-42dc-d7d5-bcd23a798b82"
      },
      "outputs": [
        {
          "output_type": "stream",
          "name": "stdout",
          "text": [
            "Enter first number: 6\n",
            "Enter operator (+, -, *, /): -\n",
            "Enter second number: 3\n",
            "Result: 3.0\n"
          ]
        }
      ],
      "source": [
        "def get_user_input():\n",
        "    num1 = float(input(\"Enter first number: \"))\n",
        "    operator = input(\"Enter operator (+, -, *, /): \")\n",
        "    num2 = float(input(\"Enter second number: \"))\n",
        "    return num1, operator, num2\n",
        "\n",
        "def calculate(num1, operator, num2):\n",
        "    if operator == '+':\n",
        "        return num1 + num2\n",
        "    elif operator == '-':\n",
        "        return num1 - num2\n",
        "    elif operator == '*':\n",
        "        return num1 * num2\n",
        "    elif operator == '/':\n",
        "        if num2 != 0:\n",
        "            return num1 / num2\n",
        "        else:\n",
        "            return \"Error: Cannot divide by zero.\"\n",
        "    else:\n",
        "        return \"Error: Invalid operator.\"\n",
        "\n",
        "def main():\n",
        "    num1, operator, num2 = get_user_input()\n",
        "    result = calculate(num1, operator, num2)\n",
        "    print(\"Result:\", result)\n",
        "\n",
        "# Run the calculator\n",
        "main()\n"
      ]
    }
  ]
}